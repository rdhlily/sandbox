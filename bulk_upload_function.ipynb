{
 "metadata": {
  "language_info": {
   "codemirror_mode": {
    "name": "ipython",
    "version": 3
   },
   "file_extension": ".py",
   "mimetype": "text/x-python",
   "name": "python",
   "nbconvert_exporter": "python",
   "pygments_lexer": "ipython3",
   "version": "3.8.3-final"
  },
  "orig_nbformat": 2,
  "kernelspec": {
   "name": "python3",
   "display_name": "Python 3",
   "language": "python"
  }
 },
 "nbformat": 4,
 "nbformat_minor": 2,
 "cells": [
  {
   "cell_type": "code",
   "execution_count": null,
   "metadata": {},
   "outputs": [],
   "source": [
    "import pandas as pd\n",
    "from op_verification.reference_data import *"
   ]
  },
  {
   "cell_type": "code",
   "execution_count": null,
   "metadata": {},
   "outputs": [],
   "source": [
    "#making loop a function\n",
    "#creating dictionaries for csv\n",
    "\n",
    "def bulk_upload_dictionary(path, update_date, source, num_list, data_type, dataset, show_criteria, file_type, folder_cat, sub_dir):\n",
    "    os.chdir(path)\n",
    "    #Open dictionary\n",
    "    name_to_col = {'Title': [], 'Updated1': [], 'Source': [], 'Description':[],'state': [], 'Years Tags': [], 'Dataset Types': [], 'Title in Listing': [], 'readme name': [], 'show criteria': [], 'format': [], 'size':[], 'Updated2':[], 'URL': []}\n",
    "\n",
    "    for zip_proj in os.listdir():\n",
    "        if not zip_proj[0] == '.':\n",
    "            #Updated\n",
    "            name_to_col['Updated1'].append(update_date)\n",
    "            #Source\n",
    "            name_to_col['Source'].append(source)\n",
    "            #Dataset Types\n",
    "            name_to_col['Dataset Types'].append(data_type)\n",
    "            #state name\n",
    "            state_abrv = zip_proj[0:2]\n",
    "            state_name = state_abbreviation_to_state_name.get(state_abrv.upper(), 'Puerto Rico')\n",
    "            name_to_col['state'].append(state_name)#because one missing can set default\n",
    "            #Years Tags\n",
    "            data_year = zip_proj[3:7] + ' ' + zip_proj[8:12]\n",
    "            name_to_col['Years Tags'].append(data_year)\n",
    "            #Title\n",
    "            #ex: Haystaq 2021 to 2030 Alaska block level projection\n",
    "            title = source +' '+ \" \" + data_year + \" \" + state_name + \" \" + dataset\n",
    "            name_to_col['Title'].append(title)\n",
    "            #Title in Listing\n",
    "            title_list = data_year + dataset\n",
    "            name_to_col['Title in Listing'].append(title_list)\n",
    "            #Description\n",
    "            description = data_year + \" \" + state_name + \" \" + dataset\n",
    "            name_to_col['Description'].append(description)\n",
    "            #readme name\n",
    "            readme = 'readme_'+ zip_proj[:-4] + '.txt'\n",
    "            name_to_col['readme name'].append(readme)\n",
    "            #show criteria\n",
    "            name_to_col['show criteria'].append(show_criteria)\n",
    "            #format\n",
    "            name_to_col['format'].append(file_type)\n",
    "            #file size\n",
    "            size_zip_proj = os.path.getsize(zip_proj)\n",
    "            size_mb = size_zip_proj/(1000**2) \n",
    "            name_to_col['size'].append(size_mb)\n",
    "            #Updated2\n",
    "            name_to_col['Updated2'].append(update_date)\n",
    "            #URL\n",
    "            url = 'https://rdh-web-storage.s3.us-east-2.amazonaws.com/web_ready_stage/' + folder_cat + sub_dir + zip_proj\n",
    "            name_to_col['URL'].append(url)\n",
    "    return name_to_col\n"
   ]
  },
  {
   "cell_type": "code",
   "execution_count": null,
   "metadata": {},
   "outputs": [],
   "source": [
    "for k, v in name_to_col.items():\n",
    "    print(k, ': ', len(v))"
   ]
  },
  {
   "cell_type": "code",
   "execution_count": null,
   "metadata": {},
   "outputs": [],
   "source": [
    "path = '/Users/lilyfalk/Downloads/projections/b_p1_by_state/'\n",
    "#set variables:\n",
    "update_date = '12/15/2020'\n",
    "source = 'HaystaqDNA '\n",
    "num_list = 53\n",
    "data_type = ' projections '\n",
    "dataset = \" Block Level Projection P1 \"\n",
    "show_criteria = 'no'\n",
    "file_type = 'csv'\n",
    "folder_cat = 'projections/'\n",
    "sub_dir = 'b_p1_by_state/'\n",
    "\n",
    "name_to_col = bulk_upload_dictionary(path, update_date, source, num_list, data_type, dataset, show_criteria, file_type, folder_cat, sub_dir)\n",
    "b_p1 = pd.DataFrame.from_dict(name_to_col)\n",
    "b_p1"
   ]
  },
  {
   "cell_type": "code",
   "execution_count": null,
   "metadata": {},
   "outputs": [],
   "source": [
    "b_p1.to_csv('bulk_sheet_proj_b_p1.csv', index = False) #index false makes it so index # not printed out"
   ]
  },
  {
   "cell_type": "code",
   "execution_count": null,
   "metadata": {},
   "outputs": [],
   "source": [
    "path = '/Users/lilyfalk/Downloads/projections/b_p2_by_state/'\n",
    "#set variables:\n",
    "update_date = '12/15/2020'\n",
    "source = 'HaystaqDNA '\n",
    "num_list = 53\n",
    "data_type = ' projections '\n",
    "dataset = \" Block Level Projection P2 \"\n",
    "show_criteria = 'no'\n",
    "file_type = 'csv'\n",
    "folder_cat = 'projections/'\n",
    "sub_dir = 'b_p2_by_state/'\n",
    "\n",
    "name_to_col = bulk_upload_dictionary(path, update_date, source, num_list, data_type, dataset, show_criteria, file_type, folder_cat, sub_dir)\n",
    "b_p2 = pd.DataFrame.from_dict(name_to_col)\n",
    "b_p2"
   ]
  },
  {
   "cell_type": "code",
   "execution_count": null,
   "metadata": {},
   "outputs": [],
   "source": [
    "b_p2.to_csv('bulk_sheet_proj_b_p2.csv', index = False) #index false makes it so index # not printed out"
   ]
  },
  {
   "cell_type": "code",
   "execution_count": null,
   "metadata": {},
   "outputs": [],
   "source": [
    "import shutil\n",
    "import os"
   ]
  },
  {
   "cell_type": "code",
   "execution_count": null,
   "metadata": {},
   "outputs": [],
   "source": []
  },
  {
   "cell_type": "code",
   "execution_count": null,
   "metadata": {},
   "outputs": [],
   "source": [
    "\n",
    "\n",
    "def readme_for_upload_rename(src_parent, dest_parent):\n",
    "    for readme in os.listdir():\n",
    "        if readme.endswith('.txt') and readme[0] != '.' : \n",
    "            source = src_parent + full_file_name\n",
    "            #file_name,file_type = full_file_name.split('.',1)\n",
    "            new_readme_name = '.'.join([\"readme_\", full_file_name]) #, file_type])\n",
    "            destination = dest_parent + new_readme_name\n",
    "            print(\"Renaming {} to {}\".format(full_file_name, new_readme_name))\n",
    "\n",
    "            shutil.copy(source, destination) \n",
    "            os.chdir('..')  "
   ]
  },
  {
   "cell_type": "code",
   "execution_count": null,
   "metadata": {},
   "outputs": [],
   "source": [
    "source = '/Users/lilyfalk/Downloads/projections_unzipped/b_p1_by_state/ms_2021_2030_b_proj_p1/README.txt'\n",
    "destination = '/Users/lilyfalk/Downloads/projection_csv_readmes/readme_ms_2021_2030_b_proj_p1.txt' \n",
    "shutil.copy(source, destination) "
   ]
  },
  {
   "cell_type": "code",
   "execution_count": null,
   "metadata": {},
   "outputs": [],
   "source": [
    "# Rename and move readme for bulk upload\n",
    "src_parent = ('/Users/lilyfalk/Downloads/projections_unzipped/bg_p2_by_state/')\n",
    "dest_parent = ('/Users/lilyfalk/Downloads/projection_csv_readmes/bg_p2_by_state/')\n",
    "os.chdir(src_parent)\n",
    "for dir_name in os.listdir():\n",
    "    if not dir_name[0] == '.':\n",
    "        os.chdir(src_parent+dir_name)\n",
    "        for readme in os.listdir():\n",
    "            if readme.endswith('.txt') and readme[0] != '.' : \n",
    "                source = src_parent + dir_name + '/' + readme\n",
    "                new_readme_name = \"readme_\" + dir_name\n",
    "                destination = dest_parent + new_readme_name\n",
    "                print(\"Moving {} to {}\".format(source, destination))\n",
    "\n",
    "                shutil.copy(source, destination) \n",
    "                os.chdir('..')  \n",
    "      "
   ]
  },
  {
   "cell_type": "code",
   "execution_count": 45,
   "metadata": {},
   "outputs": [],
   "source": [
    "#add .txt to file names\n",
    "parent_dir = '/Users/lilyfalk/Downloads/projection_csv_readmes/'\n",
    "os.chdir(parent_dir)\n",
    "for dir_name in os.listdir():\n",
    "    if not dir_name[0] == '.':\n",
    "        os.chdir(parent_dir + dir_name)\n",
    "        for readme in os.listdir():\n",
    "            if not readme[0] == '.':\n",
    "                source = readme\n",
    "                dest = readme + '.txt'\n",
    "                os.rename(source, dest)\n"
   ]
  },
  {
   "cell_type": "code",
   "execution_count": null,
   "metadata": {},
   "outputs": [],
   "source": [
    "src_parent = ('/Users/lilyfalk/Downloads/projections_unzipped/bg_p2_by_state/')\n",
    "dest = ('/Users/lilyfalk/Downloads/projections_unzipped/')\n",
    "os.chdir(src_parent)\n",
    "for dir_name in os.listdir():\n",
    "    if not dir_name[0] == '.':\n",
    "        os.chdir(src_parent + dir_name)\n",
    "        for sub_dir in os.listdir():\n",
    "            if not sub_dir[0] == '.':\n",
    "                source = src_parent + dir_name + '/' + sub_dir\n",
    "                dest = dest\n",
    "                shutil.move(source, dest)"
   ]
  },
  {
   "cell_type": "code",
   "execution_count": null,
   "metadata": {},
   "outputs": [],
   "source": [
    "os.chdir('/Users/lilyfalk/Downloads/projections_unzipped/b_p1_by_state/')\n",
    "for full_file_name in os.listdir(): #[x for x in os.listdir() if x[-3:] == 'txt']:\n",
    "    print(full_file_name)"
   ]
  },
  {
   "cell_type": "code",
   "execution_count": null,
   "metadata": {},
   "outputs": [],
   "source": []
  },
  {
   "cell_type": "code",
   "execution_count": null,
   "metadata": {},
   "outputs": [],
   "source": [
    "## Modify readme name \n",
    "# rename - new name = readme + file name\n",
    "# move to new readme folder.\n",
    "\n",
    "#Changing readme name in given directory\n",
    "def change_readme_name(dir_name):\n",
    "    os.chdir(dir_name)\n",
    "    for full_file_name in [x for x in os.listdir() if x[-3:] == 'txt']:\n",
    "        file_name,file_type = full_file_name.split('.',1)\n",
    "        new_readme_name = '.'.join([\"readme_\", file_name, file_type])\n",
    "        print(\"Renaming {} to {}\".format(full_file_name, new_readme_name)) \n",
    "        os.rename(full_file_name, new_readme_name)\n",
    "    os.chdir('..')  \n",
    "    "
   ]
  },
  {
   "cell_type": "code",
   "execution_count": null,
   "metadata": {},
   "outputs": [],
   "source": [
    "#Changing readme name in many directories:\n",
    "dir_name = os.chdir('/Users/lilyfalk/Downloads/projections_unzipped/b_p1_by_state')\n",
    "for dir_name in [x for x in os.listdir() if not x[0] == '.']:\n",
    "    change_readme_name(dir_name)"
   ]
  },
  {
   "cell_type": "code",
   "execution_count": null,
   "metadata": {},
   "outputs": [],
   "source": []
  },
  {
   "cell_type": "code",
   "execution_count": null,
   "metadata": {},
   "outputs": [],
   "source": []
  },
  {
   "cell_type": "code",
   "execution_count": null,
   "metadata": {},
   "outputs": [],
   "source": [
    "###Maybe will need to use the below later:"
   ]
  },
  {
   "cell_type": "code",
   "execution_count": null,
   "metadata": {},
   "outputs": [],
   "source": [
    "def put_readme_in_file(path, file_id):\n",
    "    os.chdir(path)\n",
    "    files = [file for file in os.listdir() if file_id in file]\n",
    "    for file in files:\n",
    "        source = ('./README.txt')   #Begin in bg/block folder\n",
    "        destination = file\n",
    "        dest = shutil.copy(source, destination)\n",
    "        print('README copied to: ', file)"
   ]
  },
  {
   "cell_type": "code",
   "execution_count": null,
   "metadata": {},
   "outputs": [],
   "source": [
    "def rename_file_from_dir(parent_path):\n",
    "    os.chdir(parent_path)\n",
    "    directory_list = [x for x in os.listdir() if not x[0] == '.' and os.path.isdir(x)] #this is a list of all nonhidden files \n",
    "    cur_dir = os.getcwd()\n",
    "    for dir_name in directory_list:\n",
    "        sub_files = [x for x in os.listdir(dir_name) if x.endswith('.csv')]\n",
    "        old_name  = cur_dir + \"/\" +  dir_name + \"/\" +  sub_files[0]\n",
    "        new_name = cur_dir + \"/\" +  dir_name + \"/\" + os.path.basename(dir_name) + \".csv\"\n",
    "        print( f\"{old_name} -> {new_name}\")\n",
    "        os.rename(old_name, new_name)"
   ]
  }
 ]
}